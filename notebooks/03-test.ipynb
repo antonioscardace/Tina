{
 "cells": [
  {
   "cell_type": "markdown",
   "metadata": {},
   "source": [
    "# Model Testing"
   ]
  },
  {
   "cell_type": "code",
   "execution_count": null,
   "metadata": {},
   "outputs": [],
   "source": [
    "import sys\n",
    "sys.path.append('../')"
   ]
  },
  {
   "cell_type": "code",
   "execution_count": null,
   "metadata": {},
   "outputs": [],
   "source": [
    "import os\n",
    "import torch\n",
    "import pandas as pd\n",
    "\n",
    "from tqdm import tqdm\n",
    "\n",
    "from sklearn.metrics import auc, accuracy_score, f1_score, recall_score, precision_score\n",
    "from sklearn.metrics import confusion_matrix, roc_curve\n",
    "\n",
    "from monai.networks.nets import DenseNet\n",
    "from torch.utils.data import DataLoader\n",
    "\n",
    "from src.data.dataset import LABELS, BrainMriDataset\n",
    "from src.data.transforms import Transforms\n",
    "from src.utils.model import load_model\n",
    "from src.utils.visualisation import plot_confusion_matrix, plot_roc_curve"
   ]
  },
  {
   "cell_type": "code",
   "execution_count": null,
   "metadata": {},
   "outputs": [],
   "source": [
    "print('PyTorch Version:', torch.__version__)\n",
    "print('Is CUDA Available:', torch.cuda.is_available())"
   ]
  },
  {
   "cell_type": "code",
   "execution_count": null,
   "metadata": {},
   "outputs": [],
   "source": [
    "DEVICE      = 'cuda' if torch.cuda.is_available() else 'cpu'\n",
    "DATASET_CSV = '../data/processed/dataset_nifti.csv'\n",
    "INPUT_PATH  = '../models/'\n",
    "LOGS_PATH   = '../logs/'\n",
    "NUM_WORKERS = 8\n",
    "BATCH_SIZE  = 16"
   ]
  },
  {
   "cell_type": "code",
   "execution_count": null,
   "metadata": {},
   "outputs": [],
   "source": [
    "assert os.path.exists(DATASET_CSV)\n",
    "assert os.path.exists(INPUT_PATH)"
   ]
  },
  {
   "cell_type": "code",
   "execution_count": null,
   "metadata": {},
   "outputs": [],
   "source": [
    "dataset = pd.read_csv(DATASET_CSV)\n",
    "test_data = dataset[dataset['split'] == 'test']"
   ]
  },
  {
   "cell_type": "code",
   "execution_count": null,
   "metadata": {},
   "outputs": [],
   "source": [
    "test_transform = Transforms.get_data_loading()\n",
    "\n",
    "test_dataset = BrainMriDataset(\n",
    "    dataset_df=test_data,\n",
    "    transform=test_transform\n",
    ")\n",
    "\n",
    "test_loader = DataLoader(\n",
    "    dataset=test_dataset,\n",
    "    batch_size=BATCH_SIZE,\n",
    "    num_workers=NUM_WORKERS,\n",
    "    pin_memory=True,\n",
    "    shuffle=False\n",
    ")"
   ]
  },
  {
   "cell_type": "code",
   "execution_count": null,
   "metadata": {},
   "outputs": [],
   "source": [
    "model = DenseNet(spatial_dims=3, in_channels=1, out_channels=1, dropout_prob=0.2).to(DEVICE)\n",
    "load_model(model, INPUT_PATH, DEVICE)"
   ]
  },
  {
   "cell_type": "code",
   "execution_count": null,
   "metadata": {},
   "outputs": [],
   "source": [
    "y_true = []\n",
    "y_pred = []\n",
    "model.eval()\n",
    "\n",
    "with torch.no_grad():\n",
    "    for step, batch in tqdm(enumerate(test_loader), 'Testing', len(test_loader)):\n",
    "        with torch.autocast(DEVICE):\n",
    "            labels = batch['label'].to(DEVICE).float().unsqueeze(1)\n",
    "            images = batch['image'].to(DEVICE)\n",
    "\n",
    "        y_pred_prob = torch.sigmoid(model(images))\n",
    "        y_pred_label = (y_pred_prob > 0.5).float()\n",
    "\n",
    "        y_true.extend(labels.cpu().numpy())\n",
    "        y_pred.extend(y_pred_label.cpu().numpy())"
   ]
  },
  {
   "cell_type": "code",
   "execution_count": null,
   "metadata": {},
   "outputs": [],
   "source": [
    "accuracy = accuracy_score(y_true, y_pred)\n",
    "precision = precision_score(y_true, y_pred)\n",
    "recall = recall_score(y_true, y_pred)\n",
    "fscore = f1_score(y_true, y_pred)\n",
    "\n",
    "false_positive_rate, true_positive_rate, _ = roc_curve(y_true, y_pred)\n",
    "roc_auc = auc(false_positive_rate, true_positive_rate)\n",
    "\n",
    "print('AUC of the ROC Curve: {}'.format(roc_auc))\n",
    "print('Accuracy-Score: {}'.format(accuracy))\n",
    "print('Precision-Score: {}'.format(precision))\n",
    "print('Recall-Score: {}'.format(recall))\n",
    "print('F1-Score: {}'.format(fscore))\n",
    "\n",
    "plot_confusion_matrix(confusion_matrix(y_true, y_pred), class_names=LABELS.keys(), figsize=(4, 4))\n",
    "plot_roc_curve(false_positive_rate, true_positive_rate, figsize=(6, 4))"
   ]
  }
 ],
 "metadata": {
  "kernelspec": {
   "display_name": "mybrlp",
   "language": "python",
   "name": "python3"
  },
  "language_info": {
   "codemirror_mode": {
    "name": "ipython",
    "version": 3
   },
   "file_extension": ".py",
   "mimetype": "text/x-python",
   "name": "python",
   "nbconvert_exporter": "python",
   "pygments_lexer": "ipython3",
   "version": "3.9.20"
  }
 },
 "nbformat": 4,
 "nbformat_minor": 2
}
