{
 "cells": [
  {
   "cell_type": "markdown",
   "metadata": {},
   "source": [
    "# Model Training"
   ]
  },
  {
   "cell_type": "code",
   "execution_count": null,
   "metadata": {},
   "outputs": [],
   "source": [
    "import sys\n",
    "sys.path.append('../')"
   ]
  },
  {
   "cell_type": "code",
   "execution_count": null,
   "metadata": {},
   "outputs": [],
   "source": [
    "import os\n",
    "import torch\n",
    "import numpy as np\n",
    "import pandas as pd\n",
    "\n",
    "from tqdm import tqdm\n",
    "\n",
    "from torch.nn import BCEWithLogitsLoss\n",
    "from torch.optim import AdamW\n",
    "from torch.utils.data.sampler import WeightedRandomSampler\n",
    "from torch.utils.tensorboard import SummaryWriter\n",
    "\n",
    "from monai.data import DataLoader\n",
    "from monai.networks.nets import DenseNet\n",
    "from monai.utils import set_determinism\n",
    "\n",
    "from src.data.dataset import BrainMriDataset\n",
    "from src.data.transforms import Transforms\n",
    "from src.utils.meter import AverageMetricsMeter\n",
    "from src.utils.model import calculate_metrics, save_model\n",
    "from src.utils.log import log_metrics"
   ]
  },
  {
   "cell_type": "code",
   "execution_count": null,
   "metadata": {},
   "outputs": [],
   "source": [
    "print('PyTorch Version:', torch.__version__)\n",
    "print('Is CUDA Available:', torch.cuda.is_available())"
   ]
  },
  {
   "cell_type": "code",
   "execution_count": null,
   "metadata": {},
   "outputs": [],
   "source": [
    "DEVICE        = 'cuda' if torch.cuda.is_available() else 'cpu'\n",
    "DATASET_CSV   = '../data/processed/dataset_nifti.csv'\n",
    "OUTPUT_PATH   = '../models/'\n",
    "LOGS_PATH     = '../logs/'\n",
    "NUM_WORKERS   = 8\n",
    "BATCH_SIZE    = 16\n",
    "EPOCHS        = 130\n",
    "LEARNING_RATE = 1e-4\n",
    "WEIGHT_DECAY  = 1e-5"
   ]
  },
  {
   "cell_type": "code",
   "execution_count": null,
   "metadata": {},
   "outputs": [],
   "source": [
    "assert os.path.exists(DATASET_CSV)\n",
    "os.makedirs(OUTPUT_PATH, exist_ok=True)"
   ]
  },
  {
   "cell_type": "code",
   "execution_count": null,
   "metadata": {},
   "outputs": [],
   "source": [
    "np.random.seed(seed=1234)\n",
    "torch.random.manual_seed(seed=1234)\n",
    "set_determinism(seed=1234)"
   ]
  },
  {
   "cell_type": "code",
   "execution_count": null,
   "metadata": {},
   "outputs": [],
   "source": [
    "dataset = pd.read_csv(DATASET_CSV)\n",
    "train_data = dataset[dataset['split'] == 'train']\n",
    "valid_data = dataset[dataset['split'] == 'valid']"
   ]
  },
  {
   "cell_type": "code",
   "execution_count": null,
   "metadata": {},
   "outputs": [],
   "source": [
    "train_transform = Transforms.get_data_loading()\n",
    "valid_transform = Transforms.get_data_loading()\n",
    "\n",
    "train_dataset = BrainMriDataset(\n",
    "    dataset_df=train_data,\n",
    "    transform=train_transform\n",
    ")\n",
    "\n",
    "valid_dataset = BrainMriDataset(\n",
    "    dataset_df=valid_data,\n",
    "    transform=valid_transform\n",
    ")"
   ]
  },
  {
   "cell_type": "code",
   "execution_count": null,
   "metadata": {},
   "outputs": [],
   "source": [
    "class_counts = train_data['diagnosis'].value_counts()\n",
    "class_weights = 1.0 / class_counts\n",
    "sample_weights = train_data['diagnosis'].map(class_weights)"
   ]
  },
  {
   "cell_type": "code",
   "execution_count": null,
   "metadata": {},
   "outputs": [],
   "source": [
    "train_loader = DataLoader(\n",
    "    dataset=train_dataset,\n",
    "    batch_size=BATCH_SIZE,\n",
    "    num_workers=NUM_WORKERS,\n",
    "    persistent_workers=True, \n",
    "    pin_memory=True,\n",
    "    sampler=WeightedRandomSampler(sample_weights, len(sample_weights), replacement=True)\n",
    ")\n",
    "\n",
    "valid_loader = DataLoader(\n",
    "    dataset=valid_dataset,\n",
    "    batch_size=BATCH_SIZE,\n",
    "    num_workers=NUM_WORKERS,\n",
    "    persistent_workers=True,\n",
    "    pin_memory=True,\n",
    "    shuffle=False\n",
    ")\n",
    "\n",
    "loaders = {\n",
    "    'train': train_loader,\n",
    "    'valid': valid_loader\n",
    "}"
   ]
  },
  {
   "cell_type": "code",
   "execution_count": null,
   "metadata": {},
   "outputs": [],
   "source": [
    "criterion = BCEWithLogitsLoss()\n",
    "model = DenseNet(spatial_dims=3, in_channels=1, out_channels=1, dropout_prob=0.2).to(DEVICE)\n",
    "optimizer = AdamW(params=model.parameters(), lr=LEARNING_RATE, weight_decay=WEIGHT_DECAY)"
   ]
  },
  {
   "cell_type": "code",
   "execution_count": null,
   "metadata": {},
   "outputs": [],
   "source": [
    "best_valid_loss = float('inf')\n",
    "meter = AverageMetricsMeter()\n",
    "\n",
    "for epoch in range(EPOCHS):\n",
    "    for mode in ['train', 'valid']:\n",
    "    \n",
    "        meter.reset()\n",
    "        model.train() if mode == 'train' else model.eval()\n",
    "        description = 'Epoch [%d] in [%s]' % (epoch, mode)\n",
    "    \n",
    "        for batch in tqdm(loaders[mode], description):\n",
    "            with torch.set_grad_enabled(mode == 'train'):\n",
    "                \n",
    "                with torch.autocast(DEVICE):\n",
    "                    y_true = batch['label'].to(DEVICE).float().unsqueeze(1)\n",
    "                    y_pred = model(batch['image'].to(DEVICE))\n",
    "                \n",
    "                loss, performance = calculate_metrics(y_true, y_pred, criterion, DEVICE)\n",
    "                meter.add(loss.item(), performance, len(batch))\n",
    "\n",
    "                if mode == 'train':\n",
    "                    loss.backward()\n",
    "                    optimizer.step()\n",
    "                    optimizer.zero_grad()\n",
    "\n",
    "        with SummaryWriter(LOGS_PATH) as writer:\n",
    "            log_metrics(writer, mode, epoch, meter.loss_value(), meter.performance_value())\n",
    "\n",
    "    torch.cuda.empty_cache()\n",
    "    if meter.loss_value() < best_valid_loss:\n",
    "        best_valid_loss = meter.loss_value()\n",
    "        save_model(model, optimizer, OUTPUT_PATH)"
   ]
  }
 ],
 "metadata": {
  "kernelspec": {
   "display_name": "mybrlp",
   "language": "python",
   "name": "python3"
  },
  "language_info": {
   "codemirror_mode": {
    "name": "ipython",
    "version": 3
   },
   "file_extension": ".py",
   "mimetype": "text/x-python",
   "name": "python",
   "nbconvert_exporter": "python",
   "pygments_lexer": "ipython3",
   "version": "3.9.20"
  }
 },
 "nbformat": 4,
 "nbformat_minor": 2
}
