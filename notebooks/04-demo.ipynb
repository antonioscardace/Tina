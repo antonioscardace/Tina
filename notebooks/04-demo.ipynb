{
 "cells": [
  {
   "cell_type": "markdown",
   "metadata": {},
   "source": [
    "# Inference Demo"
   ]
  },
  {
   "cell_type": "code",
   "execution_count": null,
   "metadata": {},
   "outputs": [],
   "source": [
    "import sys\n",
    "sys.path.append('../')"
   ]
  },
  {
   "cell_type": "code",
   "execution_count": null,
   "metadata": {},
   "outputs": [],
   "source": [
    "import torch\n",
    "\n",
    "from tkinter import Tk, filedialog\n",
    "from monai.networks.nets import DenseNet\n",
    "from src.data.transforms import Transforms\n",
    "from src.utils.model import load_model\n",
    "from src.utils.visualisation import plot_scan_central_slices"
   ]
  },
  {
   "cell_type": "code",
   "execution_count": null,
   "metadata": {},
   "outputs": [],
   "source": [
    "print('PyTorch Version:', torch.__version__)\n",
    "print('Is CUDA Available:', torch.cuda.is_available())"
   ]
  },
  {
   "cell_type": "code",
   "execution_count": null,
   "metadata": {},
   "outputs": [],
   "source": [
    "DEVICE       = 'cuda' if torch.cuda.is_available() else 'cpu'\n",
    "INPUT_PATH   = '../models/'\n",
    "DROPOUT_PROB = 0.2"
   ]
  },
  {
   "cell_type": "code",
   "execution_count": null,
   "metadata": {},
   "outputs": [],
   "source": [
    "root = Tk()\n",
    "root.withdraw()\n",
    "scan_path = filedialog.askopenfilename(\n",
    "    title='Select a Brain MRI Scan',\n",
    "    filetypes=[('NIfTI', '*.nii.gz')]\n",
    ")"
   ]
  },
  {
   "cell_type": "code",
   "execution_count": null,
   "metadata": {},
   "outputs": [],
   "source": [
    "model = DenseNet(spatial_dims=3, in_channels=1, out_channels=1, dropout_prob=DROPOUT_PROB).to(DEVICE)\n",
    "load_model(model, INPUT_PATH, DEVICE)"
   ]
  },
  {
   "cell_type": "code",
   "execution_count": null,
   "metadata": {},
   "outputs": [],
   "source": [
    "model.eval()\n",
    "\n",
    "data = { 'image': scan_path }\n",
    "inference_transforms = Transforms.get_data_loading()\n",
    "scan = inference_transforms(data)['image'].unsqueeze(0).to(DEVICE)\n",
    "\n",
    "with torch.no_grad():\n",
    "    y_pred_prob = torch.sigmoid(model(scan))\n",
    "    y_pred_label = (y_pred_prob > 0.5).float()\n",
    "    label = 'AD' if y_pred_label.cpu().numpy()[0][0] else 'CN'\n",
    "\n",
    "scan = scan.squeeze(0).squeeze(0).cpu().numpy()"
   ]
  },
  {
   "cell_type": "code",
   "execution_count": null,
   "metadata": {},
   "outputs": [],
   "source": [
    "description = 'Predicted [%s]' % label\n",
    "plot_scan_central_slices(scan.shape, scan, description, figsize=(9, 6), padding=16)"
   ]
  }
 ],
 "metadata": {
  "kernelspec": {
   "display_name": "mybrlp",
   "language": "python",
   "name": "python3"
  },
  "language_info": {
   "name": "python",
   "version": "3.9.20"
  }
 },
 "nbformat": 4,
 "nbformat_minor": 2
}
